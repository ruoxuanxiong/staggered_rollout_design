{
 "cells": [
  {
   "cell_type": "code",
   "execution_count": 11,
   "metadata": {},
   "outputs": [],
   "source": [
    "import numpy as np\n",
    "import scipy.optimize\n",
    "import matplotlib.pyplot as plt\n",
    "\n",
    "import pandas as pd\n",
    "import seaborn as sns\n",
    "\n",
    "import matplotlib\n",
    "matplotlib.rcParams.update({'font.size': 16})\n",
    "from matplotlib import rc\n",
    "rc('font',**{'family':'sans-serif','sans-serif':['Helvetica']})\n",
    "## for Palatino and other serif fonts use:\n",
    "#rc('font',**{'family':'serif','serif':['Palatino']})\n",
    "rc('text', usetex=True)\n",
    "rc('legend', fontsize=12)\n",
    "matplotlib.rcParams['savefig.dpi'] = 1200\n"
   ]
  },
  {
   "cell_type": "code",
   "execution_count": 12,
   "metadata": {},
   "outputs": [],
   "source": [
    "def import_MS_FLU_pos_data():\n",
    "    Y = np.loadtxt(\"../data/flu.csv\", delimiter=',')\n",
    "    return Y\n",
    "Y = import_MS_FLU_pos_data()"
   ]
  },
  {
   "cell_type": "code",
   "execution_count": 13,
   "metadata": {},
   "outputs": [],
   "source": [
    "months = 7; years = 8; pad = 6; pad_front = 2; ratio = 0.995\n",
    "Y_avg = np.zeros((months+pad,))\n",
    "for i in range(years):\n",
    "    Y_avg[pad_front:(months+pad_front)] = Y_avg[pad_front:(months+pad_front)] + np.mean(Y[:,(i*months):((i+1)*months)], axis=0)/years\n",
    "Y_avg[months] = np.mean(Y_avg[months:(months+pad_front-1)])\n",
    "for j in range(months,months+pad):\n",
    "    Y_avg[j] = Y_avg[months] * (ratio ** (j + 1 - months))\n",
    "def movingaverage(interval, window_size):\n",
    "    window = np.ones(int(window_size))/float(window_size)\n",
    "    return np.convolve(interval, window, 'full')"
   ]
  },
  {
   "cell_type": "code",
   "execution_count": 14,
   "metadata": {},
   "outputs": [],
   "source": [
    "val = movingaverage(Y_avg, 6)\n",
    "# val = val[2:16]\n",
    "\n",
    "val[8] = ((val[9] + val[7])/2 - val[8]) * 5 + val[8]"
   ]
  },
  {
   "cell_type": "code",
   "execution_count": 15,
   "metadata": {},
   "outputs": [],
   "source": [
    "pre_T = 7\n",
    "tau0 = -np.mean(val)/12; tau1 = tau0 * 2; tau2 = tau0 * 2.4\n",
    "taus = [0] * pre_T + [tau0, tau1] + [tau2] * (len(val) - pre_T - 2)\n",
    "out = dict()\n",
    "out['$\\mathrm{treated}$'] = np.array(val) + np.array(taus)\n",
    "out['$\\mathrm{control}$'] = val\n",
    "out_df = pd.DataFrame(out)\n",
    "out_df = out_df.iloc[2:14,:] * 1000\n",
    "out_df.reset_index(drop=True, inplace=True)\n",
    "new_idx = pd.Series(out_df.index.values - 5)\n",
    "# out_df.index.values = out_df.index.values + 1\n",
    "out_df.set_index(new_idx, inplace=True)\n",
    "out_df = out_df[['$\\mathrm{control}$', '$\\mathrm{treated}$']]"
   ]
  },
  {
   "cell_type": "code",
   "execution_count": 16,
   "metadata": {},
   "outputs": [
    {
     "data": {
      "image/png": "[encoded data removed]",
      "text/plain": [
       "<Figure size 360x288 with 1 Axes>"
      ]
     },
     "metadata": {
      "needs_background": "light"
     },
     "output_type": "display_data"
    }
   ],
   "source": [
    "fig, ax = plt.subplots(nrows=1,ncols=1,figsize=(5,4))\n",
    "sns.lineplot(data=out_df, markers=True)\n",
    "plt.xlabel('$\\mathrm{month}$')\n",
    "plt.ylabel('$\\mathrm{new~infections}$')\n",
    "# plt.title('$\\mathrm{Accumulative}\\,\\,\\mathrm{Effect}$')\n",
    "plt.tight_layout()\n",
    "plt.ylim([0., 3])\n",
    "plt.xlim([out_df.index.min()-1,out_df.index.max()+1])\n",
    "major_ticks = np.arange(out_df.index.min()-1,out_df.index.max()+1, 2)\n",
    "minor_ticks = np.arange(out_df.index.min()-1,out_df.index.max()+1, 2)\n",
    "\n",
    "ax.set_xticks(major_ticks)\n",
    "ax.set_xticks(minor_ticks, minor=True)\n",
    "ax.axes.yaxis.set_ticklabels([])\n",
    "\n",
    "plt.grid()\n",
    "plt.legend(loc='lower right')\n",
    "\n",
    "plt.savefig('../figures/cumulative_effect_new_infection.pdf')"
   ]
  },
  {
   "cell_type": "code",
   "execution_count": 17,
   "metadata": {},
   "outputs": [],
   "source": [
    "scale = 1.65\n",
    "base = 350+0.3/2.3*50\n",
    "vals = list(base+7.5*np.array([0,0,0, 0, 0, 3*scale+0.55, 5*scale+0.7, 5*scale, 4*scale+0.7, 3*scale+1.55, 3*scale+1.05])/scale)"
   ]
  },
  {
   "cell_type": "code",
   "execution_count": 18,
   "metadata": {},
   "outputs": [],
   "source": [
    "pre_T = 6; post_T = 14\n",
    "out = dict()\n",
    "out['$\\mathrm{treated}$'] = [base] * pre_T + vals + [vals[-1]] * post_T \n",
    "out['$\\mathrm{control}$'] = [base] * (pre_T + len(vals) + post_T)\n",
    "out_df = pd.DataFrame(out)\n",
    "out_df = out_df.iloc[8:20,:]/100\n",
    "out_df.reset_index(drop=True, inplace=True)\n",
    "new_idx = pd.Series(out_df.index.values - 3)\n",
    "out_df.set_index(new_idx, inplace=True)\n",
    "out_df = out_df[['$\\mathrm{control}$', '$\\mathrm{treated}$']]"
   ]
  },
  {
   "cell_type": "code",
   "execution_count": 19,
   "metadata": {},
   "outputs": [
    {
     "data": {
      "image/png": "[encoded data removed]",
      "text/plain": [
       "<Figure size 360x288 with 1 Axes>"
      ]
     },
     "metadata": {
      "needs_background": "light"
     },
     "output_type": "display_data"
    }
   ],
   "source": [
    "fig, ax = plt.subplots(nrows=1,ncols=1,figsize=(5,4))\n",
    "sns.lineplot(data=out_df, markers=True)\n",
    "plt.xlabel('$\\mathrm{week}$')\n",
    "plt.ylabel('$\\mathrm{working~hours}$')\n",
    "# plt.title('$\\mathrm{Attenuate~Effect}$')\n",
    "plt.tight_layout()\n",
    "# plt.xlim([-0.5, 34])\n",
    "plt.ylim([3, 4.2])\n",
    "# plt.xlim([0,out_df.shape[0]+2])\n",
    "# major_ticks = np.arange(1, out_df.shape[0]+2, 2)\n",
    "# minor_ticks = np.arange(1, out_df.shape[0]+2, 2)\n",
    "plt.xlim([out_df.index.min()-1,out_df.index.max()+1])\n",
    "major_ticks = np.arange(out_df.index.min()-1,out_df.index.max()+1, 2)\n",
    "minor_ticks = np.arange(out_df.index.min()-1,out_df.index.max()+1, 2)\n",
    "\n",
    "\n",
    "ax.set_xticks(major_ticks)\n",
    "ax.set_xticks(minor_ticks, minor=True)\n",
    "ax.axes.yaxis.set_ticklabels([])\n",
    "\n",
    "plt.grid()\n",
    "plt.legend(loc='lower right')\n",
    "plt.savefig('../figures/wearout_effect_app.pdf')"
   ]
  },
  {
   "cell_type": "code",
   "execution_count": null,
   "metadata": {},
   "outputs": [],
   "source": []
  },
  {
   "cell_type": "code",
   "execution_count": null,
   "metadata": {},
   "outputs": [],
   "source": []
  }
 ],
 "metadata": {
  "kernelspec": {
   "display_name": "Python 3",
   "language": "python",
   "name": "python3"
  },
  "language_info": {
   "codemirror_mode": {
    "name": "ipython",
    "version": 3
   },
   "file_extension": ".py",
   "mimetype": "text/x-python",
   "name": "python",
   "nbconvert_exporter": "python",
   "pygments_lexer": "ipython3",
   "version": "3.8.8"
  }
 },
 "nbformat": 4,
 "nbformat_minor": 4
}
