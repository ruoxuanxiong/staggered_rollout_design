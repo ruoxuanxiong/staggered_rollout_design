{
 "cells": [
  {
   "cell_type": "code",
   "execution_count": 1,
   "metadata": {},
   "outputs": [],
   "source": [
    "import numpy as np\n",
    "from utils_adaptive import run_adaptive\n",
    "import pandas as pd\n",
    "import matplotlib.pyplot as plt\n",
    "\n",
    "import matplotlib\n",
    "matplotlib.rcParams.update({'font.size': 14})\n",
    "from matplotlib import rc\n",
    "rc('font',**{'family':'sans-serif','sans-serif':['Helvetica']})\n",
    "rc('text', usetex=True)\n",
    "rc('legend', fontsize=12)\n",
    "matplotlib.rcParams['savefig.dpi'] = 1200\n",
    "\n",
    "%load_ext autoreload\n",
    "%autoreload 2\n",
    "import time\n",
    "import scipy.stats as scs\n",
    "import math\n",
    "\n",
    "from utils_carryover import theta1, theta2\n",
    "from utils_adaptive import *\n",
    "from utils_empirical import *"
   ]
  },
  {
   "cell_type": "code",
   "execution_count": 2,
   "metadata": {},
   "outputs": [],
   "source": [
    "out_dir = \"../result/flu-adaptive/\"\n",
    "out_path = out_dir \n",
    "save_path = out_dir + \"flu_adaptive.pkl\""
   ]
  },
  {
   "cell_type": "code",
   "execution_count": 3,
   "metadata": {},
   "outputs": [],
   "source": [
    "N = 50; \n",
    "fs_pct = 0.2; t0 = 3; \n",
    "num_mc = 10000\n",
    "\n",
    "Y = import_MS_FLU_pos_data()\n",
    "tau_ratio = -0.1\n",
    "\n",
    "tau = np.mean(Y)*tau_ratio\n",
    "\n",
    "summary = dict()\n",
    "prec_thres = N/tau**2 * 15e-3\n",
    "\n",
    "var_thres = 1/prec_thres * 1e6"
   ]
  },
  {
   "cell_type": "code",
   "execution_count": 4,
   "metadata": {
    "scrolled": true
   },
   "outputs": [
    {
     "name": "stdout",
     "output_type": "stream",
     "text": [
      "7\n"
     ]
    },
    {
     "name": "stderr",
     "output_type": "stream",
     "text": [
      "/Users/ruoxuanxiong/opt/anaconda3/lib/python3.8/site-packages/scipy/optimize/_numdiff.py:579: RuntimeWarning: invalid value encountered in true_divide\n",
      "  J_transposed[i] = df / dx\n"
     ]
    },
    {
     "name": "stdout",
     "output_type": "stream",
     "text": [
      "500/10000 done\n",
      "1000/10000 done\n",
      "1500/10000 done\n",
      "2000/10000 done\n",
      "2500/10000 done\n",
      "3000/10000 done\n",
      "3500/10000 done\n",
      "4000/10000 done\n",
      "4500/10000 done\n",
      "5000/10000 done\n",
      "5500/10000 done\n",
      "6000/10000 done\n",
      "6500/10000 done\n",
      "7000/10000 done\n",
      "7500/10000 done\n",
      "8000/10000 done\n",
      "8500/10000 done\n",
      "9000/10000 done\n",
      "9500/10000 done\n",
      "10000/10000 done\n",
      "4.8285508847007604e-08 4.924043803095802e-08 4.093089613381751e-08\n",
      "186.56322693824768\n",
      "14\n",
      "500/10000 done\n",
      "1000/10000 done\n",
      "1500/10000 done\n",
      "2000/10000 done\n",
      "2500/10000 done\n",
      "3000/10000 done\n",
      "3500/10000 done\n",
      "4000/10000 done\n",
      "4500/10000 done\n",
      "5000/10000 done\n",
      "5500/10000 done\n",
      "6000/10000 done\n",
      "6500/10000 done\n",
      "7000/10000 done\n",
      "7500/10000 done\n",
      "8000/10000 done\n",
      "8500/10000 done\n",
      "9000/10000 done\n",
      "9500/10000 done\n",
      "10000/10000 done\n",
      "5.047331398159384e-08 6.241066194817434e-08 3.3253969992857605e-08\n",
      "20353.387006044388\n",
      "21\n",
      "500/10000 done\n",
      "1000/10000 done\n",
      "1500/10000 done\n",
      "2000/10000 done\n",
      "2500/10000 done\n",
      "3000/10000 done\n",
      "3500/10000 done\n",
      "4000/10000 done\n",
      "4500/10000 done\n",
      "5000/10000 done\n",
      "5500/10000 done\n",
      "6000/10000 done\n",
      "6500/10000 done\n",
      "7000/10000 done\n",
      "7500/10000 done\n",
      "8000/10000 done\n",
      "8500/10000 done\n",
      "9000/10000 done\n",
      "9500/10000 done\n",
      "10000/10000 done\n",
      "4.488582206303439e-08 6.177940372915624e-08 2.951905159941739e-08\n",
      "35734.3979408741\n",
      "28\n",
      "500/10000 done\n",
      "1000/10000 done\n",
      "1500/10000 done\n",
      "2000/10000 done\n",
      "2500/10000 done\n",
      "3000/10000 done\n",
      "3500/10000 done\n",
      "4000/10000 done\n",
      "4500/10000 done\n",
      "5000/10000 done\n",
      "5500/10000 done\n",
      "6000/10000 done\n",
      "6500/10000 done\n",
      "7000/10000 done\n",
      "7500/10000 done\n",
      "8000/10000 done\n",
      "8500/10000 done\n",
      "9000/10000 done\n",
      "9500/10000 done\n",
      "10000/10000 done\n",
      "3.8986864417948383e-08 6.489286043064015e-08 2.6951473628249343e-08\n",
      "40892.61228299141\n"
     ]
    }
   ],
   "source": [
    "start_time = time.time()\n",
    "# for T_max in [7]:\n",
    "for T_max in [7, 14, 21, 28]:\n",
    "    \n",
    "    np.random.seed(123)\n",
    "    print(T_max)\n",
    "    idx_N_list, idx_T_list, shuffle_list = sample_subblocks(Y, N, T_max, num_mc=num_mc)\n",
    "    all_Ys = get_all_Ys(Y, idx_N_list, idx_T_list, shuffle_list)\n",
    "    out = run_adaptive(tau, fs_pct=fs_pct, num_mc=num_mc,\n",
    "                   t0=t0, adaptive=True, prec_thres=prec_thres, print_out=False, print_epochs=500, all_Ys=all_Ys)\n",
    "    out_df = pd.DataFrame(out)\n",
    "    print(np.mean(out_df[\"tau_adaptive\"]**2), np.mean(out_df[\"tau_bm\"]**2), np.mean(out_df[\"tau_oracle\"]**2))\n",
    "\n",
    "    summary[T_max] = out_df\n",
    "    with open(save_path, 'wb') as handle:\n",
    "        pickle.dump(summary, handle, protocol=pickle.HIGHEST_PROTOCOL)\n",
    "    print(time.time() - start_time)"
   ]
  },
  {
   "cell_type": "code",
   "execution_count": 5,
   "metadata": {},
   "outputs": [],
   "source": [
    "T_col = '${T}_\\mathrm{max}$'; val_col = '$(\\hat{\\\\tau}_0 - \\\\tau_0)^2$'; method_col = '$\\mathrm{design}$'\n",
    "method_dict = {'bm': '$\\mathrm{benchmark}$', 'oracle': '$\\mathrm{oracle}$', 'adaptive': '$\\mathrm{adaptive}$', 'var': '$\\mathrm{variance \\,\\,threshold\\,\\,} 1/c$'}\n",
    "out = dict()\n",
    "out[val_col] = list(); out[method_col] = list(); out[T_col] = list()\n",
    "\n",
    "\n",
    "T_list = [7,14,21,28]\n",
    "for T_max in T_list:\n",
    "    this_out = summary[T_max] * 1e3\n",
    "    num_mc = this_out.shape[0] \n",
    "    out[T_col] = out[T_col] + [T_max] * (num_mc * 4)\n",
    "    out[method_col] = out[method_col] + [method_dict['bm']] * num_mc + [method_dict['oracle']] * num_mc + [method_dict['adaptive']] * num_mc + [method_dict['var']] * num_mc\n",
    "    out[val_col] = out[val_col] + list(this_out['tau_bm'] ** 2) + list(this_out['tau_oracle'] ** 2) + list(this_out['tau_adaptive'] ** 2) + [var_thres] * num_mc\n",
    "    \n",
    "out_df = pd.DataFrame(out)"
   ]
  },
  {
   "cell_type": "code",
   "execution_count": 6,
   "metadata": {},
   "outputs": [
    {
     "data": {
      "image/png": "[encoded data removed]",
      "text/plain": [
       "<Figure size 576x288 with 1 Axes>"
      ]
     },
     "metadata": {
      "needs_background": "light"
     },
     "output_type": "display_data"
    }
   ],
   "source": [
    "fig, axes = plt.subplots(nrows=1,ncols=1,figsize=(8,4))\n",
    "sns.lineplot(ax=axes, data=out_df, x=T_col, y=val_col, hue=method_col,estimator=np.mean, err_style=\"band\")\n",
    "\n",
    "axes.tick_params('x', labelrotation=360)\n",
    "axes.set_xlabel(T_col)\n",
    "axes.set_ylabel(val_col)\n",
    "axes.set_ylim([0.024, 0.077])\n",
    "axes.legend(bbox_to_anchor=(1.05, 1), loc='upper left')\n",
    "axes.grid()\n",
    "\n",
    "plt.tight_layout()\n",
    "\n",
    "plt.savefig(out_dir+\"flu_adaptive_comparison.pdf\")"
   ]
  },
  {
   "cell_type": "code",
   "execution_count": 7,
   "metadata": {},
   "outputs": [
    {
     "data": {
      "image/png": "[encoded data removed]",
      "text/plain": [
       "<Figure size 1152x288 with 4 Axes>"
      ]
     },
     "metadata": {
      "needs_background": "light"
     },
     "output_type": "display_data"
    }
   ],
   "source": [
    "num_Ts = len(T_list)\n",
    "fig, axes = plt.subplots(nrows=1,ncols=num_Ts,figsize=(4*num_Ts,4))\n",
    "\n",
    "for i in range(num_Ts):\n",
    "    T = T_list[i]\n",
    "    if i == 0:\n",
    "        axes[i].hist(summary[T]['T_ast'], bins= 15, color=\"whitesmoke\", edgecolor=\"darkgrey\", density=False)\n",
    "    elif i == 1 or i == 2:\n",
    "        axes[i].hist(summary[T]['T_ast'], bins= 25, color=\"whitesmoke\", edgecolor=\"darkgrey\", density=False)\n",
    "    else:\n",
    "        axes[i].hist(summary[T]['T_ast'], bins= T_list[-1], color=\"whitesmoke\", edgecolor=\"darkgrey\", density=False)\n",
    "    axes[i].set_title(\"$T_{max}=\"+str(T)+\"$\")\n",
    "    axes[i].set_xlim([1, 20])\n",
    "    axes[i].set_ylim([0, 6001])\n",
    "plt.tight_layout()\n",
    "plt.savefig(out_dir+\"flu_termination_time.pdf\")"
   ]
  },
  {
   "cell_type": "code",
   "execution_count": null,
   "metadata": {},
   "outputs": [],
   "source": []
  }
 ],
 "metadata": {
  "kernelspec": {
   "display_name": "Python 3",
   "language": "python",
   "name": "python3"
  },
  "language_info": {
   "codemirror_mode": {
    "name": "ipython",
    "version": 3
   },
   "file_extension": ".py",
   "mimetype": "text/x-python",
   "name": "python",
   "nbconvert_exporter": "python",
   "pygments_lexer": "ipython3",
   "version": "3.8.8"
  }
 },
 "nbformat": 4,
 "nbformat_minor": 4
}
