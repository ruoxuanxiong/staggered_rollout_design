{
 "cells": [
  {
   "cell_type": "code",
   "execution_count": 22,
   "id": "44f1a75c",
   "metadata": {},
   "outputs": [
    {
     "name": "stdout",
     "output_type": "stream",
     "text": [
      "The autoreload extension is already loaded. To reload it, use:\n",
      "  %reload_ext autoreload\n"
     ]
    }
   ],
   "source": [
    "import numpy as np\n",
    "import scipy.optimize\n",
    "import matplotlib.pyplot as plt\n",
    "\n",
    "import pandas as pd\n",
    "import seaborn as sns\n",
    "\n",
    "import matplotlib\n",
    "matplotlib.rcParams.update({'font.size': 14})\n",
    "from matplotlib import rc\n",
    "rc('font',**{'family':'sans-serif','sans-serif':['Helvetica']})\n",
    "rc('text', usetex=True)\n",
    "rc('legend', fontsize=12)\n",
    "matplotlib.rcParams['savefig.dpi'] = 1200\n",
    "\n",
    "import pickle\n",
    "\n",
    "%load_ext autoreload\n",
    "%autoreload 2\n",
    "import time"
   ]
  },
  {
   "cell_type": "code",
   "execution_count": 23,
   "id": "cc9d7301",
   "metadata": {},
   "outputs": [],
   "source": [
    "out_dir = \"../../result/flu-adaptive/\"\n",
    "save_path = out_dir + \"flu_adaptive-0728-10.pkl\"\n",
    "with open(save_path, 'rb') as handle:\n",
    "    summary = pickle.load(handle)"
   ]
  },
  {
   "cell_type": "code",
   "execution_count": 24,
   "id": "5a5a58ad",
   "metadata": {},
   "outputs": [],
   "source": [
    "def import_MS_FLU_pos_data():\n",
    "    Y = np.loadtxt(\"../../data/flu.csv\", delimiter=',')\n",
    "    return Y\n",
    "\n",
    "N = 50; \n",
    "num_mc = 10000\n",
    "Y = import_MS_FLU_pos_data()\n",
    "tau_ratio = -0.1\n",
    "tau = np.mean(Y)*tau_ratio\n",
    "prec_thres = N/tau**2 * 10e-3\n",
    "var_thres = 1/prec_thres * 1e6"
   ]
  },
  {
   "cell_type": "code",
   "execution_count": 25,
   "id": "4a445678",
   "metadata": {},
   "outputs": [],
   "source": [
    "T_col = '${T}_\\mathrm{max}$'; val_col = '$(\\hat{\\\\tau}_0 - \\\\tau_0)^2$'; method_col = '$\\mathrm{design}$'\n",
    "method_dict = {'bm': '$\\mathrm{benchmark}$', 'oracle': '$\\mathrm{oracle}$', 'adaptive': '$\\mathrm{adaptive}$', 'var': '$\\mathrm{variance\\,\\,threshold\\,\\,} 1/c$'}\n",
    "out = dict()\n",
    "out[val_col] = list(); out[method_col] = list(); out[T_col] = list()\n",
    "\n",
    "\n",
    "T_list = [7,14,21,28]\n",
    "for T_max in T_list:\n",
    "    this_out = summary[T_max] * 1e3\n",
    "    num_mc = this_out.shape[0] \n",
    "    out[T_col] = out[T_col] + [T_max] * (num_mc * 4)\n",
    "    out[method_col] = out[method_col] + [method_dict['bm']] * num_mc + [method_dict['oracle']] * num_mc + [method_dict['adaptive']] * num_mc + [method_dict['var']] * num_mc\n",
    "    out[val_col] = out[val_col] + list(this_out['tau_bm'] ** 2) + list(this_out['tau_oracle'] ** 2) + list(this_out['tau_adaptive'] ** 2) + [var_thres] * num_mc\n",
    "    \n",
    "out_df = pd.DataFrame(out)"
   ]
  },
  {
   "cell_type": "code",
   "execution_count": null,
   "id": "fe3ba867",
   "metadata": {},
   "outputs": [],
   "source": [
    "fig, axes = plt.subplots(nrows=1,ncols=1,figsize=(7,4))\n",
    "sns.lineplot(ax=axes, data=out_df, x=T_col, y=val_col, hue=method_col,estimator=np.mean, err_style=\"band\")\n",
    "\n",
    "axes.tick_params('x', labelrotation=360)\n",
    "axes.set_xlabel(T_col)\n",
    "axes.set_ylabel(val_col)\n",
    "# axes.set_ylim([0.021, 0.057])\n",
    "axes.legend(bbox_to_anchor=(1.05, 1), loc='upper left')\n",
    "axes.grid()\n",
    "\n",
    "plt.tight_layout()\n",
    "\n",
    "plt.savefig(out_dir+\"supplementary/flu_adaptive_comparison-10.pdf\")"
   ]
  },
  {
   "cell_type": "code",
   "execution_count": null,
   "id": "5d772823",
   "metadata": {},
   "outputs": [],
   "source": [
    "num_Ts = len(T_list)\n",
    "fig, axes = plt.subplots(nrows=1,ncols=num_Ts,figsize=(4*num_Ts,4))\n",
    "\n",
    "for i in range(num_Ts):\n",
    "    T = T_list[i]\n",
    "    if i == 0:\n",
    "        axes[i].hist(summary[T]['T_ast'], bins= 15, color=\"whitesmoke\", edgecolor=\"darkgrey\", density=False)\n",
    "#     elif i == 1 or i == 2:\n",
    "#         axes[i].hist(summary[T]['T_ast'], bins= 25, color=\"whitesmoke\", edgecolor=\"darkgrey\", density=False)\n",
    "    else:\n",
    "        axes[i].hist(summary[T]['T_ast'], bins= T_list[-1], color=\"whitesmoke\", edgecolor=\"darkgrey\", density=False)\n",
    "    axes[i].set_title(\"$T_{max}=\"+str(T)+\"$\")\n",
    "    axes[i].set_xlim([1, 20])\n",
    "    axes[i].set_ylim([0, 6501])\n",
    "plt.tight_layout()\n",
    "plt.savefig(out_dir+\"supplementary/flu_termination_time-10.pdf\")"
   ]
  },
  {
   "cell_type": "code",
   "execution_count": null,
   "id": "ea03b226",
   "metadata": {},
   "outputs": [],
   "source": []
  }
 ],
 "metadata": {
  "kernelspec": {
   "display_name": "Python 3",
   "language": "python",
   "name": "python3"
  },
  "language_info": {
   "codemirror_mode": {
    "name": "ipython",
    "version": 3
   },
   "file_extension": ".py",
   "mimetype": "text/x-python",
   "name": "python",
   "nbconvert_exporter": "python",
   "pygments_lexer": "ipython3",
   "version": "3.8.8"
  }
 },
 "nbformat": 4,
 "nbformat_minor": 5
}
