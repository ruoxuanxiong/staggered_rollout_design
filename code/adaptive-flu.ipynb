{
 "cells": [
  {
   "cell_type": "code",
   "execution_count": 1,
   "metadata": {},
   "outputs": [],
   "source": [
    "import numpy as np\n",
    "from utils_adaptive import run_adaptive\n",
    "import pandas as pd\n",
    "import matplotlib.pyplot as plt\n",
    "\n",
    "import matplotlib\n",
    "matplotlib.rcParams.update({'font.size': 14})\n",
    "from matplotlib import rc\n",
    "rc('font',**{'family':'sans-serif','sans-serif':['Helvetica']})\n",
    "rc('text', usetex=True)\n",
    "rc('legend', fontsize=12)\n",
    "matplotlib.rcParams['savefig.dpi'] = 1200\n",
    "\n",
    "%load_ext autoreload\n",
    "%autoreload 2\n",
    "import time\n",
    "import scipy.stats as scs\n",
    "import math\n",
    "\n",
    "from utils_carryover import theta1, theta2\n",
    "from utils_adaptive_0728 import *\n",
    "from utils_empirical import *"
   ]
  },
  {
   "cell_type": "code",
   "execution_count": 2,
   "metadata": {},
   "outputs": [],
   "source": [
    "out_dir = \"../result/flu-adaptive/\"\n",
    "out_path = out_dir \n",
    "save_path = out_dir + \"flu_adaptive-0728-15.pkl\""
   ]
  },
  {
   "cell_type": "code",
   "execution_count": 3,
   "metadata": {},
   "outputs": [],
   "source": [
    "N = 50; \n",
    "fs_pct = 0.2; t0 = 3; \n",
    "num_mc = 10000\n",
    "\n",
    "Y = import_MS_FLU_pos_data()\n",
    "tau_ratio = -0.1\n",
    "\n",
    "tau = np.mean(Y)*tau_ratio\n",
    "\n",
    "summary = dict()\n",
    "prec_thres = N/tau**2 * 15e-3"
   ]
  },
  {
   "cell_type": "code",
   "execution_count": 4,
   "metadata": {},
   "outputs": [
    {
     "name": "stdout",
     "output_type": "stream",
     "text": [
      "7\n"
     ]
    },
    {
     "name": "stderr",
     "output_type": "stream",
     "text": [
      "/Users/ruoxuanxiong/opt/anaconda3/lib/python3.8/site-packages/scipy/optimize/_numdiff.py:579: RuntimeWarning: invalid value encountered in true_divide\n",
      "  J_transposed[i] = df / dx\n"
     ]
    },
    {
     "name": "stdout",
     "output_type": "stream",
     "text": [
      "500/10000 done\n",
      "1000/10000 done\n",
      "1500/10000 done\n",
      "2000/10000 done\n",
      "2500/10000 done\n",
      "3000/10000 done\n",
      "3500/10000 done\n",
      "4000/10000 done\n",
      "4500/10000 done\n",
      "5000/10000 done\n",
      "5500/10000 done\n",
      "6000/10000 done\n",
      "6500/10000 done\n",
      "7000/10000 done\n",
      "7500/10000 done\n",
      "8000/10000 done\n",
      "8500/10000 done\n",
      "9000/10000 done\n",
      "9500/10000 done\n",
      "10000/10000 done\n",
      "4.8285508847007604e-08 4.924043803095802e-08 4.093089613381751e-08\n",
      "189.39755511283875\n",
      "14\n",
      "500/10000 done\n",
      "1000/10000 done\n",
      "1500/10000 done\n",
      "2000/10000 done\n",
      "2500/10000 done\n",
      "3000/10000 done\n",
      "3500/10000 done\n",
      "4000/10000 done\n",
      "4500/10000 done\n",
      "5000/10000 done\n",
      "5500/10000 done\n",
      "6000/10000 done\n",
      "6500/10000 done\n",
      "7000/10000 done\n",
      "7500/10000 done\n",
      "8000/10000 done\n",
      "8500/10000 done\n",
      "9000/10000 done\n",
      "9500/10000 done\n",
      "10000/10000 done\n",
      "5.047331398159384e-08 6.241066194817434e-08 3.3253969992857605e-08\n",
      "2008.2957181930542\n",
      "21\n",
      "500/10000 done\n",
      "1000/10000 done\n",
      "1500/10000 done\n",
      "2000/10000 done\n",
      "2500/10000 done\n",
      "3000/10000 done\n",
      "3500/10000 done\n",
      "4000/10000 done\n",
      "4500/10000 done\n",
      "5000/10000 done\n",
      "5500/10000 done\n",
      "6000/10000 done\n",
      "6500/10000 done\n",
      "7000/10000 done\n",
      "7500/10000 done\n",
      "8000/10000 done\n",
      "8500/10000 done\n",
      "9000/10000 done\n",
      "9500/10000 done\n",
      "10000/10000 done\n",
      "4.488582206303439e-08 6.177940372915624e-08 2.951905159941739e-08\n",
      "5181.17329788208\n",
      "28\n",
      "500/10000 done\n",
      "1000/10000 done\n",
      "1500/10000 done\n",
      "2000/10000 done\n",
      "2500/10000 done\n",
      "3000/10000 done\n",
      "3500/10000 done\n",
      "4000/10000 done\n",
      "4500/10000 done\n",
      "5000/10000 done\n",
      "5500/10000 done\n",
      "6000/10000 done\n",
      "6500/10000 done\n",
      "7000/10000 done\n",
      "7500/10000 done\n",
      "8000/10000 done\n",
      "8500/10000 done\n",
      "9000/10000 done\n",
      "9500/10000 done\n",
      "10000/10000 done\n",
      "3.8986864417948383e-08 6.489286043064015e-08 2.6951473628249343e-08\n",
      "11908.847316026688\n",
      "35\n",
      "500/10000 done\n",
      "1000/10000 done\n",
      "1500/10000 done\n",
      "2000/10000 done\n",
      "2500/10000 done\n",
      "3000/10000 done\n",
      "3500/10000 done\n",
      "4000/10000 done\n",
      "4500/10000 done\n",
      "5000/10000 done\n",
      "5500/10000 done\n",
      "6000/10000 done\n",
      "6500/10000 done\n",
      "7000/10000 done\n",
      "7500/10000 done\n",
      "8000/10000 done\n",
      "8500/10000 done\n",
      "9000/10000 done\n",
      "9500/10000 done\n",
      "10000/10000 done\n",
      "5.493817589302197e-08 8.221170309140537e-08 2.674700622301193e-08\n",
      "19996.8545730114\n"
     ]
    }
   ],
   "source": [
    "start_time = time.time()\n",
    "# for T_max in [7]:\n",
    "for T_max in [7, 14, 21, 28, 35]:\n",
    "    \n",
    "    np.random.seed(123)\n",
    "    print(T_max)\n",
    "    idx_N_list, idx_T_list, shuffle_list = sample_subblocks(Y, N, T_max, num_mc=num_mc)\n",
    "    all_Ys = get_all_Ys(Y, idx_N_list, idx_T_list, shuffle_list)\n",
    "    out = run_adaptive(tau, fs_pct=fs_pct, num_mc=num_mc,\n",
    "                   t0=t0, adaptive=True, prec_thres=prec_thres, print_out=False, print_epochs=500, all_Ys=all_Ys)\n",
    "    out_df = pd.DataFrame(out)\n",
    "    print(np.mean(out_df[\"tau_adaptive\"]**2), np.mean(out_df[\"tau_bm\"]**2), np.mean(out_df[\"tau_oracle\"]**2))\n",
    "\n",
    "    summary[T_max] = out_df\n",
    "    with open(save_path, 'wb') as handle:\n",
    "        pickle.dump(summary, handle, protocol=pickle.HIGHEST_PROTOCOL)\n",
    "    print(time.time() - start_time)"
   ]
  },
  {
   "cell_type": "code",
   "execution_count": 12,
   "metadata": {},
   "outputs": [
    {
     "data": {
      "text/plain": [
       "0.05424561708378697"
      ]
     },
     "execution_count": 12,
     "metadata": {},
     "output_type": "execute_result"
    }
   ],
   "source": [
    "1/(N/tau**2 * 20e-3) * 1e6"
   ]
  },
  {
   "cell_type": "code",
   "execution_count": null,
   "metadata": {},
   "outputs": [],
   "source": []
  }
 ],
 "metadata": {
  "kernelspec": {
   "display_name": "Python 3",
   "language": "python",
   "name": "python3"
  },
  "language_info": {
   "codemirror_mode": {
    "name": "ipython",
    "version": 3
   },
   "file_extension": ".py",
   "mimetype": "text/x-python",
   "name": "python",
   "nbconvert_exporter": "python",
   "pygments_lexer": "ipython3",
   "version": "3.8.8"
  }
 },
 "nbformat": 4,
 "nbformat_minor": 4
}
