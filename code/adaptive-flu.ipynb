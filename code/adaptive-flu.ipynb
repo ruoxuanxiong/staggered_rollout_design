{
 "cells": [
  {
   "cell_type": "code",
   "execution_count": null,
   "metadata": {},
   "outputs": [],
   "source": [
    "import numpy as np\n",
    "from utils_adaptive import run_adaptive\n",
    "import pandas as pd\n",
    "import matplotlib.pyplot as plt\n",
    "\n",
    "import matplotlib\n",
    "matplotlib.rcParams.update({'font.size': 14})\n",
    "from matplotlib import rc\n",
    "rc('font',**{'family':'sans-serif','sans-serif':['Helvetica']})\n",
    "rc('text', usetex=True)\n",
    "rc('legend', fontsize=12)\n",
    "matplotlib.rcParams['savefig.dpi'] = 1200\n",
    "\n",
    "%load_ext autoreload\n",
    "%autoreload 2\n",
    "import time\n",
    "import scipy.stats as scs\n",
    "import math\n",
    "\n",
    "from utils_carryover import theta1, theta2\n",
    "from utils_adaptive import *\n",
    "from utils_empirical import *"
   ]
  },
  {
   "cell_type": "code",
   "execution_count": null,
   "metadata": {},
   "outputs": [],
   "source": [
    "out_dir = \"../result/flu-adaptive/\"\n",
    "out_path = out_dir \n",
    "save_path = out_dir + \"flu_adaptive-final.pkl\""
   ]
  },
  {
   "cell_type": "code",
   "execution_count": null,
   "metadata": {},
   "outputs": [],
   "source": [
    "N = 50; \n",
    "tau = 1; fs_pct = 0.2; t0 = 3; \n",
    "num_mc = 1000\n",
    "\n",
    "Y = import_MS_FLU_pos_data()\n",
    "tau_ratio = -0.1\n",
    "\n",
    "tau = np.mean(Y)*tau_ratio\n",
    "\n",
    "summary = dict()\n",
    "prec_thres = N/tau**2 * 4e-2"
   ]
  },
  {
   "cell_type": "code",
   "execution_count": null,
   "metadata": {},
   "outputs": [],
   "source": [
    "start_time = time.time()\n",
    "for T_max in [7, 14, 21, 28, 35]:\n",
    "    \n",
    "    np.random.seed(123)\n",
    "    print(T_max)\n",
    "    idx_N_list, idx_T_list, shuffle_list = sample_subblocks(Y, N, T_max, num_mc=num_mc)\n",
    "    all_Ys = get_all_Ys(Y, idx_N_list, idx_T_list, shuffle_list)\n",
    "    out = run_adaptive(tau, fs_pct=fs_pct, num_mc=num_mc,\n",
    "                   t0=t0, adaptive=True, prec_thres=prec_thres, print_out=False, all_Ys=all_Ys)\n",
    "    out_df = pd.DataFrame(out)\n",
    "    print(np.mean(out_df[\"tau_adaptive\"]**2), np.mean(out_df[\"tau_bm\"]**2), np.mean(out_df[\"tau_oracle\"]**2))\n",
    "\n",
    "    summary[T_max] = out_df\n",
    "    with open(save_path, 'wb') as handle:\n",
    "        pickle.dump(summary, handle, protocol=pickle.HIGHEST_PROTOCOL)\n",
    "    print(time.time() - start_time)"
   ]
  },
  {
   "cell_type": "code",
   "execution_count": null,
   "metadata": {},
   "outputs": [],
   "source": []
  }
 ],
 "metadata": {
  "kernelspec": {
   "display_name": "Python 3",
   "language": "python",
   "name": "python3"
  },
  "language_info": {
   "codemirror_mode": {
    "name": "ipython",
    "version": 3
   },
   "file_extension": ".py",
   "mimetype": "text/x-python",
   "name": "python",
   "nbconvert_exporter": "python",
   "pygments_lexer": "ipython3",
   "version": "3.8.8"
  }
 },
 "nbformat": 4,
 "nbformat_minor": 4
}
