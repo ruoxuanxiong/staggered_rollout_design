{
 "cells": [
  {
   "cell_type": "code",
   "execution_count": 1,
   "metadata": {},
   "outputs": [],
   "source": [
    "import numpy as np\n",
    "from utils_adaptive import run_adaptive\n",
    "import pandas as pd\n",
    "import matplotlib.pyplot as plt\n",
    "\n",
    "import matplotlib\n",
    "matplotlib.rcParams.update({'font.size': 14})\n",
    "from matplotlib import rc\n",
    "rc('font',**{'family':'sans-serif','sans-serif':['Helvetica']})\n",
    "rc('text', usetex=True)\n",
    "rc('legend', fontsize=12)\n",
    "matplotlib.rcParams['savefig.dpi'] = 1200\n",
    "\n",
    "%load_ext autoreload\n",
    "%autoreload 2\n",
    "import time\n",
    "import scipy.stats as scs\n",
    "import math\n",
    "\n",
    "from utils_carryover import theta1, theta2\n",
    "from utils_adaptive import *\n",
    "from utils_empirical import *"
   ]
  },
  {
   "cell_type": "code",
   "execution_count": 2,
   "metadata": {},
   "outputs": [],
   "source": [
    "out_dir = \"../result/flu-adaptive/\"\n",
    "out_path = out_dir \n",
    "save_path = out_dir + \"flu_adaptive-final.pkl\""
   ]
  },
  {
   "cell_type": "code",
   "execution_count": 8,
   "metadata": {},
   "outputs": [],
   "source": [
    "def generate_more_design(T):\n",
    "    result = dict()\n",
    "    half_T = int(T/4); more_T = int(T*2)\n",
    "    \n",
    "    for this_T in [5, 10, 15, 20, 25, 30, 40, 50]:\n",
    "        if this_T < T:\n",
    "            result[this_T] = [(2*t+1)/(2*this_T) for t in range(this_T)] + [1-1/(2*half_T)]*(T-this_T)\n",
    "        else:\n",
    "            result[this_T] = [(2*t+1)/(2*this_T) for t in range(T)]\n",
    "            \n",
    "            \n",
    "    result['opt'] = [(2*t+1)/(2*T) for t in range(T)]\n",
    "\n",
    "\n",
    "    out_df = pd.DataFrame(result)\n",
    "\n",
    "    return out_df"
   ]
  },
  {
   "cell_type": "code",
   "execution_count": 5,
   "metadata": {},
   "outputs": [],
   "source": [
    "save_path = out_dir + \"flu_adaptive.pkl\"\n",
    "Y = import_MS_FLU_pos_data()\n",
    "tau_ratio = -0.1\n",
    "\n",
    "tau = np.mean(Y)*tau_ratio\n",
    "pad = False\n",
    "\n",
    "print_epochs = 10e4\n",
    "var_thres = (tau/1.65)**2\n",
    "\n",
    "summary = dict()"
   ]
  },
  {
   "cell_type": "code",
   "execution_count": 6,
   "metadata": {},
   "outputs": [
    {
     "name": "stdout",
     "output_type": "stream",
     "text": [
      "7\n",
      "iter:  0 0.015017986297607422\n",
      "100/500 done\n",
      "200/500 done\n",
      "300/500 done\n",
      "400/500 done\n",
      "500/500 done\n",
      "[1.03744820e-08 1.08570871e-08 1.15316286e-08]\n",
      "[5.00753177e-08 4.44997742e-08 4.25343207e-08]\n",
      "62.06526303291321\n"
     ]
    }
   ],
   "source": [
    "N = 50; num_mc= 500; num_iter=1; \n",
    "fs_pct = 0.2;\n",
    "adj_N = N\n",
    "kappa = var_thres\n",
    "\n",
    "start_time = time.time()\n",
    "for T_max in [21]:\n",
    "# for T_max in [7,9,10,11,13,14,15,18,21,24,25,28,30,35,40,42]:\n",
    "    \n",
    "    np.random.seed(321)\n",
    "    all_idx_N_list = list(); all_idx_T_list = list(); all_shuffle_list = list()\n",
    "    for _ in range(num_iter):\n",
    "        idx_N_list, idx_T_list, shuffle_list = sample_subblocks(Y, N, T_max, num_mc=num_mc)\n",
    "        all_idx_N_list.append(idx_N_list); all_idx_T_list.append(idx_T_list); all_shuffle_list.append(shuffle_list)\n",
    "\n",
    "    print(T_max)\n",
    "\n",
    "    for j in range(num_iter):\n",
    "        new_timestamp = time.time()\n",
    "        print(\"iter: \", j, time.time()-start_time)\n",
    "        timestamp = new_timestamp\n",
    "\n",
    "\n",
    "        idx_N_list = all_idx_N_list[j]; idx_T_list = all_idx_T_list[j]; shuffle_list = all_shuffle_list[j]\n",
    "        all_Ys = get_all_Ys(Y, idx_N_list, idx_T_list, shuffle_list)\n",
    "     \n",
    "        out = static_adaptive(tau, kappa, var_thres=var_thres, fs_pct=fs_pct, all_Ys=all_Ys,  \n",
    "                              N=N, T_max=T_max, adaptive=True, adj_N=adj_N, print_out=False)\n",
    "\n",
    "        \n",
    "    out_df = np.array(out)\n",
    "    print(np.median(out_df[:,:3] ** 2, axis=0))\n",
    "    print(np.mean(out_df[:,:3] ** 2, axis=0))\n",
    "    summary[T_max] = out\n",
    "    with open(save_path, 'wb') as handle:\n",
    "        pickle.dump(summary, handle, protocol=pickle.HIGHEST_PROTOCOL)\n",
    "    print(time.time() - start_time)"
   ]
  },
  {
   "cell_type": "code",
   "execution_count": 4,
   "metadata": {},
   "outputs": [
    {
     "name": "stdout",
     "output_type": "stream",
     "text": [
      "7\n",
      "iter:  0 0.014130830764770508\n"
     ]
    },
    {
     "name": "stderr",
     "output_type": "stream",
     "text": [
      "/Users/ruoxuanxiong/opt/anaconda3/lib/python3.8/site-packages/scipy/optimize/_numdiff.py:579: RuntimeWarning: invalid value encountered in true_divide\n",
      "  J_transposed[i] = df / dx\n"
     ]
    },
    {
     "name": "stdout",
     "output_type": "stream",
     "text": [
      "100/500 done\n",
      "200/500 done\n",
      "300/500 done\n",
      "400/500 done\n",
      "500/500 done\n",
      "[9.23501147e-09 1.40752303e-08 1.31913640e-08]\n",
      "[5.25117610e-08 4.95632784e-08 4.68498871e-08]\n",
      "65.4692018032074\n"
     ]
    }
   ],
   "source": [
    "N = 50; num_mc= 500; num_iter=1; \n",
    "fs_pct = 0.2;\n",
    "adj_N = N\n",
    "kappa = var_thres\n",
    "\n",
    "start_time = time.time()\n",
    "for T_max in [7]:\n",
    "# for T_max in [7,9,10,11,13,14,15,18,21,24,25,28,30,35,40,42]:\n",
    "    \n",
    "    np.random.seed(321)\n",
    "    all_idx_N_list = list(); all_idx_T_list = list(); all_shuffle_list = list()\n",
    "    for _ in range(num_iter):\n",
    "        idx_N_list, idx_T_list, shuffle_list = sample_subblocks(Y, N, T_max, num_mc=num_mc)\n",
    "        all_idx_N_list.append(idx_N_list); all_idx_T_list.append(idx_T_list); all_shuffle_list.append(shuffle_list)\n",
    "\n",
    "    print(T_max)\n",
    "\n",
    "    for j in range(num_iter):\n",
    "        new_timestamp = time.time()\n",
    "        print(\"iter: \", j, time.time()-start_time)\n",
    "        timestamp = new_timestamp\n",
    "\n",
    "\n",
    "        idx_N_list = all_idx_N_list[j]; idx_T_list = all_idx_T_list[j]; shuffle_list = all_shuffle_list[j]\n",
    "        all_Ys = get_all_Ys(Y, idx_N_list, idx_T_list, shuffle_list)\n",
    "     \n",
    "        out = static_adaptive(tau, kappa, var_thres=var_thres, fs_pct=fs_pct, all_Ys=all_Ys,  \n",
    "                              N=N, T_max=T_max, adaptive=True, adj_N=adj_N, print_out=False)\n",
    "\n",
    "        \n",
    "    out_df = np.array(out)\n",
    "    print(np.median(out_df[:,:3] ** 2, axis=0))\n",
    "    print(np.mean(out_df[:,:3] ** 2, axis=0))\n",
    "    summary[T_max] = out\n",
    "    with open(save_path, 'wb') as handle:\n",
    "        pickle.dump(summary, handle, protocol=pickle.HIGHEST_PROTOCOL)\n",
    "    print(time.time() - start_time)"
   ]
  },
  {
   "cell_type": "code",
   "execution_count": 9,
   "metadata": {},
   "outputs": [
    {
     "data": {
      "text/plain": [
       "array([3., 6., 4., 6., 6., 6., 3., 6., 6., 6., 6., 6., 6., 6., 3., 6., 6.,\n",
       "       3., 6., 3., 6., 3., 6., 6., 6., 3., 3., 3., 6., 3., 5., 6., 6., 6.,\n",
       "       6., 5., 6., 6., 6., 6., 6., 6., 6., 3., 6., 4., 6., 6., 3., 6., 3.,\n",
       "       6., 6., 6., 6., 3., 6., 6., 6., 6., 3., 6., 3., 3., 6., 6., 6., 6.,\n",
       "       3., 3., 6., 6., 6., 6., 6., 6., 3., 6., 6., 3., 3., 6., 4., 6., 6.,\n",
       "       6., 6., 3., 6., 5., 6., 6., 6., 3., 6., 3., 3., 6., 3., 3., 6., 6.,\n",
       "       6., 6., 6., 3., 6., 6., 6., 3., 6., 3., 6., 6., 6., 6., 6., 3., 6.,\n",
       "       3., 3., 4., 6., 6., 3., 6., 6., 6., 6., 6., 6., 6., 6., 3., 6., 3.,\n",
       "       6., 3., 6., 6., 3., 6., 6., 5., 6., 3., 3., 3., 6., 3., 3., 6., 6.,\n",
       "       3., 6., 6., 6., 6., 6., 6., 6., 4., 6., 6., 6., 6., 6., 6., 3., 6.,\n",
       "       6., 4., 6., 6., 6., 6., 3., 3., 6., 4., 3., 6., 6., 3., 6., 4., 3.,\n",
       "       3., 6., 3., 6., 6., 3., 4., 3., 3., 6., 6., 6., 6., 6., 6., 6., 6.,\n",
       "       6., 6., 6., 3., 6., 6., 6., 3., 6., 4., 3., 6., 6., 6., 6., 6., 6.,\n",
       "       6., 6., 6., 6., 5., 6., 6., 6., 6., 6., 6., 6., 6., 6., 3., 3., 4.,\n",
       "       6., 6., 3., 6., 6., 6., 6., 6., 6., 6., 6., 3., 6., 6., 3., 6., 6.,\n",
       "       4., 6., 3., 6., 6., 6., 6., 6., 3., 6., 6., 3., 3., 6., 6., 3., 6.,\n",
       "       6., 6., 6., 6., 4., 6., 6., 6., 6., 6., 6., 3., 6., 4., 6., 6., 4.,\n",
       "       6., 6., 6., 6., 3., 3., 6., 3., 6., 6., 6., 6., 6., 6., 6., 6., 3.,\n",
       "       3., 3., 6., 6., 5., 3., 6., 6., 6., 3., 6., 6., 6., 3., 3., 6., 6.,\n",
       "       6., 3., 3., 3., 3., 6., 6., 3., 6., 3., 6., 6., 6., 3., 6., 3., 6.,\n",
       "       3., 6., 6., 6., 6., 6., 3., 6., 6., 4., 6., 6., 3., 3., 6., 6., 3.,\n",
       "       3., 6., 6., 6., 3., 6., 6., 3., 6., 3., 3., 6., 3., 3., 6., 6., 6.,\n",
       "       3., 3., 6., 4., 6., 6., 3., 3., 3., 3., 3., 3., 3., 6., 5., 6., 6.,\n",
       "       6., 3., 6., 6., 3., 3., 3., 3., 6., 3., 3., 6., 3., 6., 4., 6., 6.,\n",
       "       6., 6., 6., 6., 3., 3., 6., 3., 5., 6., 6., 6., 3., 6., 6., 4., 6.,\n",
       "       6., 3., 6., 6., 6., 3., 4., 6., 6., 6., 6., 3., 3., 4., 4., 3., 6.,\n",
       "       6., 3., 6., 6., 6., 6., 6., 3., 3., 6., 3., 3., 6., 6., 3., 6., 6.,\n",
       "       6., 6., 6., 6., 6., 6., 3., 6., 6., 6., 3., 3., 6., 6., 6., 6., 6.,\n",
       "       6., 3., 6., 6., 4., 3., 6., 6., 4., 3., 3., 4., 6., 6., 3., 6., 3.,\n",
       "       6., 3., 3., 6., 3., 6., 3.])"
      ]
     },
     "execution_count": 9,
     "metadata": {},
     "output_type": "execute_result"
    }
   ],
   "source": [
    "out_df[:,3]"
   ]
  },
  {
   "cell_type": "code",
   "execution_count": null,
   "metadata": {},
   "outputs": [],
   "source": []
  }
 ],
 "metadata": {
  "kernelspec": {
   "display_name": "Python 3",
   "language": "python",
   "name": "python3"
  },
  "language_info": {
   "codemirror_mode": {
    "name": "ipython",
    "version": 3
   },
   "file_extension": ".py",
   "mimetype": "text/x-python",
   "name": "python",
   "nbconvert_exporter": "python",
   "pygments_lexer": "ipython3",
   "version": "3.8.8"
  }
 },
 "nbformat": 4,
 "nbformat_minor": 4
}
