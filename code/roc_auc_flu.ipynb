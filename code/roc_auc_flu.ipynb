{
 "cells": [
  {
   "cell_type": "code",
   "execution_count": 3,
   "metadata": {},
   "outputs": [
    {
     "name": "stdout",
     "output_type": "stream",
     "text": [
      "The autoreload extension is already loaded. To reload it, use:\n",
      "  %reload_ext autoreload\n"
     ]
    }
   ],
   "source": [
    "import numpy as np\n",
    "import scipy.optimize\n",
    "import matplotlib.pyplot as plt\n",
    "\n",
    "import pandas as pd\n",
    "import seaborn as sns\n",
    "\n",
    "import matplotlib\n",
    "matplotlib.rcParams.update({'font.size': 14})\n",
    "from matplotlib import rc\n",
    "rc('font',**{'family':'sans-serif','sans-serif':['Helvetica']})\n",
    "rc('text', usetex=True)\n",
    "rc('legend', fontsize=16)\n",
    "matplotlib.rcParams['savefig.dpi'] = 1200\n",
    "from utils_carryover import theta1, theta2\n",
    "from utils_static_covariate import static_covariate\n",
    "from utils_import_data import *\n",
    "from utils_empirical import *\n",
    "\n",
    "import pickle\n",
    "\n",
    "%load_ext autoreload\n",
    "%autoreload 2\n",
    "import time"
   ]
  },
  {
   "cell_type": "code",
   "execution_count": 4,
   "metadata": {},
   "outputs": [],
   "source": [
    "color_palette_dict = get_color_palette()"
   ]
  },
  {
   "cell_type": "code",
   "execution_count": 15,
   "metadata": {},
   "outputs": [],
   "source": [
    "out_dir = \"../result/flu/\"\n",
    "out_path = out_dir \n",
    "save_path = out_dir + \"flu_mse_varying_N.pkl\"\n",
    "Y = import_MS_FLU_pos_data()\n",
    "tau_ratio = -0.1\n",
    "lag = 2\n",
    "all_taus = (1+lag - np.array(range(lag+1))); all_taus = all_taus/np.sum(all_taus); all_taus = list(np.mean(Y)*tau_ratio * all_taus)\n",
    "\n",
    "all_taus = [4, -2, -1]; all_taus = all_taus/np.sum(all_taus); all_taus = list(np.mean(Y)*tau_ratio * all_taus)\n",
    "\n",
    "# all_taus_null = [0]*(lag+1)\n",
    "tau_total = np.mean(Y)*tau_ratio\n",
    "adj_pct=0.02"
   ]
  },
  {
   "cell_type": "code",
   "execution_count": 16,
   "metadata": {},
   "outputs": [],
   "source": [
    "with open(save_path, 'rb') as handle:\n",
    "    summary = pickle.load(handle)\n",
    "    \n",
    "    \n",
    "result_gls = summary['result_gls']\n",
    "result_gls_var = summary['result_gls_var']\n",
    "result_all_gls = summary['result_all_gls']\n",
    "result_all_gls_var = summary['result_all_gls_var']\n",
    "\n",
    "T = 7; N = 50; \n",
    "out_dict = result_gls[N]\n",
    "out_total_dict = result_all_gls[N]\n",
    "out_var_dict = result_gls_var[N]\n",
    "out_total_var_dict = result_all_gls_var[N]"
   ]
  },
  {
   "cell_type": "code",
   "execution_count": 8,
   "metadata": {},
   "outputs": [],
   "source": [
    "multiplier = 3\n",
    "idx = 0; J = 1; G = 4; M = 1; sub_mc = int(len(result_gls[N]['ff'])/M)\n",
    "thres_list = np.array(range(1000)) * 1e-2\n",
    "# thres_list = np.array(range(150))/15\n",
    "val1 = 50; val2 = 50; val3 = 50\n",
    "max_thres_dict = {'ff': val1, 'ba': val1, 'ffba': val2, 'opt_0': val3, \n",
    "               'opt': val3, 'opt+_'+str(J)+'_'+str(G): val3}\n",
    "tp_col = '$\\mathrm{TPR~(power)}$'; fp_col = '$\\mathrm{FPR~(significance~level)}$'; method_col = '$\\mathrm{design}$'\n",
    "method_dict = {'ff': '$Z_{\\mathrm{ff}}$', 'ba': '$Z_{\\mathrm{ba}}$', 'ffba': '$Z_{\\mathrm{ffba}}$', 'opt_0': '$Z_{\\mathrm{opt,linear}}$', \n",
    "               'opt': '$Z_{\\mathrm{opt}}$', 'opt+_'+str(J)+'_'+str(G): '$Z_{\\mathrm{opt,stratified}}$'}\n",
    "\n",
    "\n",
    "z_value_dict = dict()\n",
    "null_z_value_dict = dict()\n",
    "for name in ['ff', 'ba', 'ffba', 'opt_0','opt', 'opt+_'+str(J)+'_'+str(G)]:\n",
    "    this_z_value = np.zeros_like(np.array(out_dict[name]))\n",
    "    this_null_z_value = np.zeros_like(np.array(out_dict[name]))\n",
    "    \n",
    "\n",
    "    this_z_value = (out_dict[name] - np.array(all_taus[::-1]) + multiplier*np.mean(all_taus))/np.sqrt(out_var_dict[name])\n",
    "    this_null_z_value = (np.array(out_dict[name]) - np.array(all_taus[::-1]))/np.sqrt(out_var_dict[name])\n",
    "    z_value_dict[name] = this_z_value\n",
    "    null_z_value_dict[name] = this_null_z_value\n",
    "\n",
    "\n",
    "out = dict()\n",
    "out[tp_col] = list()\n",
    "out[fp_col] = list()\n",
    "out[method_col] = list()\n",
    "\n",
    "\n",
    "\n",
    "# for name in ['ff', 'ba', 'ffba', 'opt']:\n",
    "for name in ['ff', 'ba', 'ffba', 'opt_0', 'opt', 'opt+_'+str(J)+'_'+str(G)]:\n",
    "    tp_list = list()\n",
    "    fp_list = list()\n",
    "    for thres in thres_list:\n",
    "        for m in range(M):\n",
    "            if thres < max_thres_dict[name]:\n",
    "                tp = np.sum(np.absolute(np.array(z_value_dict[name][(m*sub_mc):((m+1)*sub_mc),idx])) > thres)\n",
    "                fp = np.sum(np.absolute(np.array(null_z_value_dict[name][(m*sub_mc):((m+1)*sub_mc),idx])) > thres)\n",
    "                tp_list.append(tp/sub_mc)\n",
    "                fp_list.append(fp/sub_mc)\n",
    "    out[tp_col] = out[tp_col] + tp_list\n",
    "    out[fp_col] = out[fp_col] + fp_list\n",
    "    out[method_col] = out[method_col] + [method_dict[name]] * len(fp_list)\n",
    "\n",
    "out_df = pd.DataFrame(out)\n",
    "\n",
    "out_df = out_df.loc[out_df[fp_col] <= 0.1, ]"
   ]
  },
  {
   "cell_type": "code",
   "execution_count": 10,
   "metadata": {},
   "outputs": [
    {
     "data": {
      "text/html": [
       "<div>\n",
       "<style scoped>\n",
       "    .dataframe tbody tr th:only-of-type {\n",
       "        vertical-align: middle;\n",
       "    }\n",
       "\n",
       "    .dataframe tbody tr th {\n",
       "        vertical-align: top;\n",
       "    }\n",
       "\n",
       "    .dataframe thead th {\n",
       "        text-align: right;\n",
       "    }\n",
       "</style>\n",
       "<table border=\"1\" class=\"dataframe\">\n",
       "  <thead>\n",
       "    <tr style=\"text-align: right;\">\n",
       "      <th></th>\n",
       "      <th>$\\mathrm{TPR~(power)}$</th>\n",
       "      <th>$\\mathrm{FPR~(significance~level)}$</th>\n",
       "      <th>$\\mathrm{design}$</th>\n",
       "    </tr>\n",
       "  </thead>\n",
       "  <tbody>\n",
       "    <tr>\n",
       "      <th>927</th>\n",
       "      <td>0.2690</td>\n",
       "      <td>0.0990</td>\n",
       "      <td>$Z_{\\mathrm{ff}}$</td>\n",
       "    </tr>\n",
       "    <tr>\n",
       "      <th>928</th>\n",
       "      <td>0.2685</td>\n",
       "      <td>0.0985</td>\n",
       "      <td>$Z_{\\mathrm{ff}}$</td>\n",
       "    </tr>\n",
       "    <tr>\n",
       "      <th>929</th>\n",
       "      <td>0.2680</td>\n",
       "      <td>0.0985</td>\n",
       "      <td>$Z_{\\mathrm{ff}}$</td>\n",
       "    </tr>\n",
       "    <tr>\n",
       "      <th>930</th>\n",
       "      <td>0.2680</td>\n",
       "      <td>0.0985</td>\n",
       "      <td>$Z_{\\mathrm{ff}}$</td>\n",
       "    </tr>\n",
       "    <tr>\n",
       "      <th>931</th>\n",
       "      <td>0.2680</td>\n",
       "      <td>0.0985</td>\n",
       "      <td>$Z_{\\mathrm{ff}}$</td>\n",
       "    </tr>\n",
       "    <tr>\n",
       "      <th>...</th>\n",
       "      <td>...</td>\n",
       "      <td>...</td>\n",
       "      <td>...</td>\n",
       "    </tr>\n",
       "    <tr>\n",
       "      <th>995</th>\n",
       "      <td>0.2455</td>\n",
       "      <td>0.0830</td>\n",
       "      <td>$Z_{\\mathrm{ff}}$</td>\n",
       "    </tr>\n",
       "    <tr>\n",
       "      <th>996</th>\n",
       "      <td>0.2455</td>\n",
       "      <td>0.0830</td>\n",
       "      <td>$Z_{\\mathrm{ff}}$</td>\n",
       "    </tr>\n",
       "    <tr>\n",
       "      <th>997</th>\n",
       "      <td>0.2455</td>\n",
       "      <td>0.0830</td>\n",
       "      <td>$Z_{\\mathrm{ff}}$</td>\n",
       "    </tr>\n",
       "    <tr>\n",
       "      <th>998</th>\n",
       "      <td>0.2445</td>\n",
       "      <td>0.0830</td>\n",
       "      <td>$Z_{\\mathrm{ff}}$</td>\n",
       "    </tr>\n",
       "    <tr>\n",
       "      <th>999</th>\n",
       "      <td>0.2440</td>\n",
       "      <td>0.0825</td>\n",
       "      <td>$Z_{\\mathrm{ff}}$</td>\n",
       "    </tr>\n",
       "  </tbody>\n",
       "</table>\n",
       "<p>73 rows × 3 columns</p>\n",
       "</div>"
      ],
      "text/plain": [
       "     $\\mathrm{TPR~(power)}$  $\\mathrm{FPR~(significance~level)}$  \\\n",
       "927                  0.2690                               0.0990   \n",
       "928                  0.2685                               0.0985   \n",
       "929                  0.2680                               0.0985   \n",
       "930                  0.2680                               0.0985   \n",
       "931                  0.2680                               0.0985   \n",
       "..                      ...                                  ...   \n",
       "995                  0.2455                               0.0830   \n",
       "996                  0.2455                               0.0830   \n",
       "997                  0.2455                               0.0830   \n",
       "998                  0.2445                               0.0830   \n",
       "999                  0.2440                               0.0825   \n",
       "\n",
       "     $\\mathrm{design}$  \n",
       "927  $Z_{\\mathrm{ff}}$  \n",
       "928  $Z_{\\mathrm{ff}}$  \n",
       "929  $Z_{\\mathrm{ff}}$  \n",
       "930  $Z_{\\mathrm{ff}}$  \n",
       "931  $Z_{\\mathrm{ff}}$  \n",
       "..                 ...  \n",
       "995  $Z_{\\mathrm{ff}}$  \n",
       "996  $Z_{\\mathrm{ff}}$  \n",
       "997  $Z_{\\mathrm{ff}}$  \n",
       "998  $Z_{\\mathrm{ff}}$  \n",
       "999  $Z_{\\mathrm{ff}}$  \n",
       "\n",
       "[73 rows x 3 columns]"
      ]
     },
     "execution_count": 10,
     "metadata": {},
     "output_type": "execute_result"
    }
   ],
   "source": [
    "out_df"
   ]
  },
  {
   "cell_type": "code",
   "execution_count": 9,
   "metadata": {},
   "outputs": [
    {
     "data": {
      "image/png": "[encoded data removed]",
      "text/plain": [
       "<Figure size 432x288 with 1 Axes>"
      ]
     },
     "metadata": {
      "needs_background": "light"
     },
     "output_type": "display_data"
    }
   ],
   "source": [
    "out_path = \"./extensions/20220107-varying_N/\"\n",
    "if idx == 0:\n",
    "    fig, ax = plt.subplots(nrows=1,ncols=1,figsize=(6,4))\n",
    "else:\n",
    "    fig, ax = plt.subplots(nrows=1,ncols=1,figsize=(4,4))\n",
    "# sns.scatterplot(data=out_df, x=fp_col, y=tp_col, hue=method_col, palette=color_palette_dict,s=4,linewidth=0, alpha = 1)\n",
    "sns.lineplot(data=out_df, x=fp_col, y=tp_col, hue=method_col, palette=color_palette_dict)\n",
    "\n",
    "ax.tick_params('x', labelrotation=360)\n",
    "ax.set_xlabel(fp_col)\n",
    "ax.set_ylabel(tp_col)\n",
    "ax.set_ylim([-0.05,0.7])\n",
    "# ax.set_xlim([-0.05,0.1])\n",
    "if idx == 0:\n",
    "    plt.legend(bbox_to_anchor=(1.05, 1), loc='upper left',markerscale=0.5)\n",
    "else:\n",
    "    plt.legend('',frameon=False)\n",
    "plt.title(\"$\\mathrm{test~of~}\\\\tau_\"+str(lag-idx)+\"$\")\n",
    "plt.grid()\n",
    "plt.tight_layout()\n",
    "# plt.savefig(out_path+\"N_\"+str(N)+\"_T_\"+str(T)+\"_lag_\"+str(lag)+\"_\"+str(tau_ratio)+\"_tau\"+str(lag-idx)+\"_roc_equal_tau-line-plot.pdf\")"
   ]
  },
  {
   "cell_type": "code",
   "execution_count": 11,
   "metadata": {},
   "outputs": [],
   "source": [
    "auc_dict = dict(); \n",
    "auc_dict['auc'] = list()\n",
    "auc_dict['idx'] = list()\n",
    "auc_dict['method'] = list()"
   ]
  },
  {
   "cell_type": "code",
   "execution_count": 12,
   "metadata": {},
   "outputs": [],
   "source": [
    "all_names = ['ff', 'ba', 'ffba', 'opt_0', 'opt', 'opt+_'+str(J)+'_'+str(G)]\n",
    "\n",
    "interval = 0.001; num_intervals = int(1/interval)\n",
    "auc_dict['idx'] += [lag- idx] * len(all_names)\n",
    "auc_list = list()\n",
    "method_list = list()\n",
    "for name in all_names:\n",
    "    sub_df = out_df[out_df[method_col] == method_dict[name]]\n",
    "    auc = 0\n",
    "    for j in range(num_intervals):\n",
    "        left_end_point = j * interval\n",
    "        right_end_point = (j+1) * interval\n",
    "        indicator = (sub_df[fp_col] > left_end_point) & (sub_df[fp_col] <= right_end_point)\n",
    "        if np.sum(indicator) == 0:\n",
    "            auc += interval * (left_end_point + right_end_point)/2\n",
    "        else:\n",
    "            auc += interval * np.mean(sub_df[indicator][tp_col])\n",
    "    auc_list.append(auc)\n",
    "    method_list.append(method_dict[name])\n",
    "auc_dict['auc'] += auc_list\n",
    "auc_dict['method'] += method_list"
   ]
  },
  {
   "cell_type": "code",
   "execution_count": 17,
   "metadata": {},
   "outputs": [],
   "source": [
    "auc_df = pd.DataFrame(auc_dict)\n",
    "\n",
    "auc_df_pt = pd.pivot_table(auc_df, values='auc', columns='idx', index='method').T.iloc[:,[2,0,1,5,3,4]]\n",
    "\n",
    "auc_df_pt.to_latex(out_path+\"auc.tex\", float_format=\"%.3f\" )"
   ]
  },
  {
   "cell_type": "code",
   "execution_count": 14,
   "metadata": {},
   "outputs": [
    {
     "data": {
      "text/plain": [
       "'./extensions/20220107-varying_N/'"
      ]
     },
     "execution_count": 14,
     "metadata": {},
     "output_type": "execute_result"
    }
   ],
   "source": [
    "out_path"
   ]
  },
  {
   "cell_type": "code",
   "execution_count": null,
   "metadata": {},
   "outputs": [],
   "source": []
  }
 ],
 "metadata": {
  "kernelspec": {
   "display_name": "Python 3",
   "language": "python",
   "name": "python3"
  },
  "language_info": {
   "codemirror_mode": {
    "name": "ipython",
    "version": 3
   },
   "file_extension": ".py",
   "mimetype": "text/x-python",
   "name": "python",
   "nbconvert_exporter": "python",
   "pygments_lexer": "ipython3",
   "version": "3.8.8"
  }
 },
 "nbformat": 4,
 "nbformat_minor": 4
}
