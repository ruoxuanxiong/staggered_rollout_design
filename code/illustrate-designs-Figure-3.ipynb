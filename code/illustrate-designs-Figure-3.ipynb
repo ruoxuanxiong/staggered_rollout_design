{
 "cells": [
  {
   "cell_type": "code",
   "execution_count": 1,
   "metadata": {},
   "outputs": [],
   "source": [
    "import matplotlib.pyplot as plt\n",
    "import seaborn as sns\n",
    "import matplotlib\n",
    "matplotlib.rcParams.update({'font.size': 14})\n",
    "from matplotlib import rc\n",
    "rc('font',**{'family':'sans-serif','sans-serif':['Helvetica']})\n",
    "rc('text', usetex=True)\n",
    "rc('legend', fontsize=16)\n",
    "matplotlib.rcParams['savefig.dpi'] = 1200\n",
    "from matplotlib.colors import ListedColormap\n",
    "\n",
    "from utils_design import *\n",
    "%load_ext autoreload\n",
    "%autoreload 2"
   ]
  },
  {
   "cell_type": "code",
   "execution_count": 2,
   "metadata": {},
   "outputs": [],
   "source": [
    "out_dir = \"../figures/\"\n",
    "out_path = out_dir "
   ]
  },
  {
   "cell_type": "code",
   "execution_count": 3,
   "metadata": {},
   "outputs": [],
   "source": [
    "N = 200; T = 10; lag = 0\n",
    "sns.set_theme(style=\"whitegrid\", font_scale=1)"
   ]
  },
  {
   "cell_type": "markdown",
   "metadata": {},
   "source": [
    "Generate the fraction of treated units per period when the specification has no fixed effects, time fixed effect, unit fixed effect, two way fixed effect, or two way fixed effect with covariates"
   ]
  },
  {
   "cell_type": "code",
   "execution_count": 4,
   "metadata": {},
   "outputs": [],
   "source": [
    "bm_treat_df = generate_bm_design(T, adj_pct=0)\n",
    "opt_treat_df = solve_nonadaptive_opt_design(T, [lag])\n",
    "\n",
    "all_Zs = dict()\n",
    "for name in ['ff', 'ba', 'ffba']:\n",
    "    all_Zs[name] = calc_cv_z_mtrx(N, T, bm_treat_df[name], cv=1)\n",
    "all_Zs['opt'] = calc_cv_z_mtrx(N, T, opt_treat_df[lag], cv=1)\n",
    "all_Zs['opt+'] = calc_cv_z_mtrx(N, T, opt_treat_df[lag], cv=4)"
   ]
  },
  {
   "cell_type": "code",
   "execution_count": 5,
   "metadata": {},
   "outputs": [],
   "source": [
    "assum_dict = {'GLS': '$\\mathrm{two}$-$\\mathrm{way}\\,\\mathrm{fe}$+$\\mathrm{covar}$', \n",
    "              'OLS': '$\\mathrm{two}$-$\\mathrm{way}\\,\\mathrm{fe}$',\n",
    "             'unit': '$\\mathrm{unit}\\,\\mathrm{fe}\\,\\mathrm{only}$', \n",
    "              'time': '$\\mathrm{time}\\,\\mathrm{fe}\\,\\mathrm{only}$',\n",
    "             'no': '$\\mathrm{no}\\,\\mathrm{fe}$'}"
   ]
  },
  {
   "cell_type": "code",
   "execution_count": 6,
   "metadata": {},
   "outputs": [
    {
     "data": {
      "image/png": "[encoded data removed]",
      "text/plain": [
       "<Figure size 288x288 with 1 Axes>"
      ]
     },
     "metadata": {},
     "output_type": "display_data"
    }
   ],
   "source": [
    "fig, ax = plt.subplots(nrows=1,ncols=1,figsize=(4,4))\n",
    "sns.heatmap(all_Zs['ff'], cmap=\"Blues\", linewidths=0.0, edgecolor=\"none\", alpha=0.25, xticklabels=True, yticklabels=False, cbar=False)\n",
    "ax.axhline(y=0, color='k',linewidth=1)\n",
    "ax.axhline(y=N, color='k',linewidth=1)\n",
    "ax.axvline(x=0, color='k',linewidth=1)\n",
    "ax.axvline(x=T, color='k',linewidth=1)\n",
    "ax.set_title(assum_dict['time'], fontsize=20)\n",
    "ax.set_xticklabels(range(1,T+1))\n",
    "plt.tight_layout()\n",
    "plt.savefig(out_dir+\"time-fe.pdf\", dpi=10000)"
   ]
  },
  {
   "cell_type": "code",
   "execution_count": 7,
   "metadata": {},
   "outputs": [
    {
     "data": {
      "image/png": "[encoded data removed]",
      "text/plain": [
       "<Figure size 288x288 with 1 Axes>"
      ]
     },
     "metadata": {},
     "output_type": "display_data"
    }
   ],
   "source": [
    "fig, ax = plt.subplots(nrows=1,ncols=1,figsize=(4,4))\n",
    "sns.heatmap(all_Zs['ba'], cmap=\"Blues\", linewidths=0.0, edgecolor=\"none\", alpha=0.25, xticklabels=True, yticklabels=False, cbar=False)\n",
    "ax.axhline(y=0, color='k',linewidth=1)\n",
    "ax.axhline(y=N, color='k',linewidth=1)\n",
    "ax.axvline(x=0, color='k',linewidth=1)\n",
    "ax.axvline(x=T, color='k',linewidth=1)\n",
    "ax.set_title(assum_dict['unit'], fontsize=20)\n",
    "ax.set_xticklabels(range(1,T+1))\n",
    "plt.tight_layout()\n",
    "plt.savefig(out_dir+\"unit-fe.pdf\", dpi=10000)"
   ]
  },
  {
   "cell_type": "code",
   "execution_count": 8,
   "metadata": {},
   "outputs": [
    {
     "data": {
      "image/png": "[encoded data removed]",
      "text/plain": [
       "<Figure size 288x288 with 1 Axes>"
      ]
     },
     "metadata": {},
     "output_type": "display_data"
    }
   ],
   "source": [
    "fig, ax = plt.subplots(nrows=1,ncols=1,figsize=(4,4))\n",
    "sns.heatmap(all_Zs['opt'], cmap=\"Blues\", linewidths=0.0, edgecolor=\"none\", alpha=0.25, xticklabels=True, yticklabels=False, cbar=False)\n",
    "ax.axhline(y=0, color='k',linewidth=1)\n",
    "ax.axhline(y=N, color='k',linewidth=1)\n",
    "ax.axvline(x=0, color='k',linewidth=1)\n",
    "ax.axvline(x=T, color='k',linewidth=1)\n",
    "ax.set_title(assum_dict['OLS'], fontsize=20)\n",
    "ax.set_xticklabels(range(1,T+1))\n",
    "plt.tight_layout()\n",
    "plt.savefig(out_dir+\"two-way-fe.pdf\", dpi=10000)"
   ]
  },
  {
   "cell_type": "code",
   "execution_count": 9,
   "metadata": {},
   "outputs": [
    {
     "data": {
      "image/png": "[encoded data removed]",
      "text/plain": [
       "<Figure size 288x288 with 1 Axes>"
      ]
     },
     "metadata": {},
     "output_type": "display_data"
    }
   ],
   "source": [
    "fig, ax = plt.subplots(nrows=1,ncols=1,figsize=(4,4))\n",
    "sns.heatmap(all_Zs['opt+'], cmap=\"Blues\", linewidths=0.0, edgecolor=\"none\", alpha=0.25, xticklabels=True, yticklabels=False, cbar=False)\n",
    "ax.axhline(y=0, color='k',linewidth=1)\n",
    "ax.axhline(y=N, color='k',linewidth=1)\n",
    "ax.axvline(x=0, color='k',linewidth=1)\n",
    "ax.axvline(x=T, color='k',linewidth=1)\n",
    "ax.set_title(assum_dict['GLS'], fontsize=20)\n",
    "ax.set_xticklabels(range(1,T+1))\n",
    "plt.tight_layout()\n",
    "plt.savefig(out_dir+\"two-way-fe-covar.pdf\", dpi=10000)"
   ]
  },
  {
   "cell_type": "code",
   "execution_count": 10,
   "metadata": {},
   "outputs": [
    {
     "data": {
      "image/png": "[encoded data removed]",
      "text/plain": [
       "<Figure size 288x288 with 1 Axes>"
      ]
     },
     "metadata": {},
     "output_type": "display_data"
    }
   ],
   "source": [
    "fig, ax = plt.subplots(nrows=1,ncols=1,figsize=(4,4))\n",
    "sns.heatmap(all_Zs['ff'], cmap=\"Blues\", linewidths=0.0, edgecolor=\"none\", alpha=0.25, xticklabels=True, yticklabels=False, cbar=False)\n",
    "ax.axhline(y=0, color='k',linewidth=1)\n",
    "ax.axhline(y=N, color='k',linewidth=1)\n",
    "ax.axvline(x=0, color='k',linewidth=1)\n",
    "ax.axvline(x=T, color='k',linewidth=1)\n",
    "ax.set_title(assum_dict['no'], fontsize=20)\n",
    "ax.set_xticklabels(range(1,T+1))\n",
    "plt.tight_layout()\n",
    "plt.savefig(out_dir+\"no-fe.pdf\", dpi=10000)"
   ]
  },
  {
   "cell_type": "code",
   "execution_count": null,
   "metadata": {},
   "outputs": [],
   "source": []
  }
 ],
 "metadata": {
  "kernelspec": {
   "display_name": "Python 3",
   "language": "python",
   "name": "python3"
  },
  "language_info": {
   "codemirror_mode": {
    "name": "ipython",
    "version": 3
   },
   "file_extension": ".py",
   "mimetype": "text/x-python",
   "name": "python",
   "nbconvert_exporter": "python",
   "pygments_lexer": "ipython3",
   "version": "3.8.8"
  }
 },
 "nbformat": 4,
 "nbformat_minor": 4
}
