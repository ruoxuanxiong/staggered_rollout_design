{
 "cells": [
  {
   "cell_type": "code",
   "execution_count": 2,
   "id": "f3afa453",
   "metadata": {},
   "outputs": [],
   "source": [
    "import numpy as np\n",
    "import scipy.optimize\n",
    "import matplotlib.pyplot as plt\n",
    "\n",
    "import pandas as pd\n",
    "import seaborn as sns\n",
    "\n",
    "import matplotlib\n",
    "matplotlib.rcParams.update({'font.size': 14})\n",
    "from matplotlib import rc\n",
    "rc('font',**{'family':'sans-serif','sans-serif':['Helvetica']})\n",
    "rc('text', usetex=True)\n",
    "rc('legend', fontsize=16)\n",
    "matplotlib.rcParams['savefig.dpi'] = 1200\n",
    "from utils_carryover import theta1, theta2\n",
    "# from utils_static_covariate import static_covariate\n",
    "from utils_empirical import *\n",
    "from utils_import_data import *\n",
    "\n",
    "import pickle\n",
    "\n",
    "%load_ext autoreload\n",
    "%autoreload 2\n",
    "import time"
   ]
  },
  {
   "cell_type": "code",
   "execution_count": 3,
   "id": "69df4b34",
   "metadata": {},
   "outputs": [],
   "source": [
    "out_dir = \"../result/flu/\"\n",
    "out_path = out_dir "
   ]
  },
  {
   "cell_type": "code",
   "execution_count": 11,
   "id": "352fea69",
   "metadata": {},
   "outputs": [],
   "source": [
    "save_path = out_dir + \"flu_mse_varying_N.pkl\"\n",
    "Y = import_MS_FLU_pos_data()\n",
    "tau_ratio = -0.1\n",
    "lag = 2\n",
    "all_taus = (1+lag - np.array(range(lag+1))); all_taus = all_taus/np.sum(all_taus); all_taus = list(np.mean(Y)*tau_ratio * all_taus)\n",
    "\n",
    "\n",
    "all_taus_null = [0]*(lag+1)\n",
    "tau_total = np.mean(Y)*tau_ratio\n",
    "adj_pct=0.02"
   ]
  },
  {
   "cell_type": "code",
   "execution_count": 4,
   "id": "2ec95b52",
   "metadata": {},
   "outputs": [],
   "source": [
    "save_path = out_dir + \"flu_mse_various_estimation_method.pkl\""
   ]
  },
  {
   "cell_type": "code",
   "execution_count": 5,
   "id": "79de0e62",
   "metadata": {},
   "outputs": [],
   "source": [
    "with open(save_path, 'rb') as handle:\n",
    "    summary = pickle.load(handle)"
   ]
  },
  {
   "cell_type": "code",
   "execution_count": 32,
   "id": "690a5940",
   "metadata": {},
   "outputs": [],
   "source": [
    "color_palette = sns.color_palette(\"coolwarm\")\n",
    "color_palette_dict = dict()"
   ]
  },
  {
   "cell_type": "code",
   "execution_count": 33,
   "id": "d05a3f6f",
   "metadata": {},
   "outputs": [],
   "source": [
    "color_palette_dict[assum_dict['no']] = color_palette[0]\n",
    "color_palette_dict[assum_dict['unit']] = color_palette[1]\n",
    "color_palette_dict[assum_dict['time']] = color_palette[2]\n",
    "color_palette_dict[assum_dict['OLS']] = color_palette[3]\n",
    "color_palette_dict[assum_dict['GLS']] = color_palette[5]"
   ]
  },
  {
   "cell_type": "code",
   "execution_count": 12,
   "id": "82f683a2",
   "metadata": {},
   "outputs": [],
   "source": [
    "N = 25\n",
    "lag = 2\n",
    "num_mc=1000; \n",
    "method = \"GLS\"\n",
    "assum_dict = {'GLS': '$\\mathrm{two}$-$\\mathrm{way}\\,\\mathrm{fe}$+$\\mathrm{covar}$', 'OLS': '$\\mathrm{two}$-$\\mathrm{way}\\,\\mathrm{fe}$',\n",
    "             'unit': '$\\mathrm{unit}\\,\\mathrm{fe}\\,\\mathrm{only}$', 'time': '$\\mathrm{time}\\,\\mathrm{fe}\\,\\mathrm{only}$',\n",
    "             'no': '$\\mathrm{no}\\,\\mathrm{fe}$'}\n",
    "\n",
    "out = dict()\n",
    "method_col = '$\\mathrm{design}$'\n",
    "assum_col = '$\\mathrm{assumption}$'\n",
    "method_dict = {'ff': '$Z_{\\mathrm{ff}}$', 'ba': '$Z_{\\mathrm{ba}}$', 'ffba': '$Z_{\\mathrm{ffba}}$', 'opt_0': '$Z_{\\mathrm{opt,linear}}$', 'opt': '$Z_{\\mathrm{opt}}$'}\n",
    "J = 1\n",
    "for G in range(4,5):\n",
    "    method_dict['opt+_'+str(J)+'_'+str(G)] = '$Z_{\\mathrm{opt,stratified}}$'\n",
    "\n",
    "out[method_col] = list()\n",
    "out[assum_col] = list()\n",
    "\n",
    "for idx in range(lag+1):\n",
    "    this_val_col = '$(\\hat{\\\\tau}_{\\mathrm{'+str(idx)+'}}-\\\\tau_{\\mathrm{'+str(idx)+'}})^2$'\n",
    "    out[this_val_col] = list()\n",
    "\n",
    "\n",
    "for name in ['ff', 'ba','ffba', 'opt_0', 'opt',  'opt+_1_4']:\n",
    "#     for name in ['opt_0', 'opt']:\n",
    "    for assum in ['no', 'unit', 'time', 'OLS', 'GLS']:\n",
    "        result = summary[assum]\n",
    "        out[method_col] = out[method_col] + [method_dict[name]] * num_mc\n",
    "        out[assum_col] = out[assum_col] + [assum_dict[assum]] * num_mc\n",
    "        for idx in range(lag+1):\n",
    "            this_val_col = '$(\\hat{\\\\tau}_{\\mathrm{'+str(idx)+'}}-\\\\tau_{\\mathrm{'+str(idx)+'}})^2$'\n",
    "            out[this_val_col] = out[this_val_col] + list((np.array(result[N][name])[:,idx] - all_taus[lag-idx])**2)\n",
    "        \n",
    "\n",
    "out_df = pd.DataFrame(out)\n",
    "total_val_col = '$\\sum_{j}(\\hat{\\\\tau}_{j}-\\\\tau_{j})^2$'\n",
    "out_df[total_val_col] = 0 \n",
    "for idx in range(lag+1):\n",
    "    this_val_col = '$(\\hat{\\\\tau}_{\\mathrm{'+str(idx)+'}}-\\\\tau_{\\mathrm{'+str(idx)+'}})^2$'\n",
    "    out_df[total_val_col] = out_df[total_val_col] + out_df[this_val_col]\n",
    "\n",
    "out_df.iloc[:,3:] = out_df.iloc[:,3:] * 1e6\n",
    "\n",
    "out_df_flu_basic = out_df"
   ]
  },
  {
   "cell_type": "code",
   "execution_count": 30,
   "id": "8a387614",
   "metadata": {},
   "outputs": [],
   "source": [
    "N = 25; T = 7\n",
    "method = \"GLS\"\n",
    "out = dict()\n",
    "method_col = '$\\mathrm{design}$'\n",
    "assum_col = '$\\mathrm{assumption}$'\n",
    "method_dict = {'ff': '$Z_{\\mathrm{ff}}$', 'ba': '$Z_{\\mathrm{ba}}$', 'ffba': '$Z_{\\mathrm{ffba}}$', 'opt_0': '$Z_{\\mathrm{opt,linear}}$', 'opt': '$Z_{\\mathrm{opt}}$'}\n",
    "J = 1\n",
    "for G in range(4,5):\n",
    "    method_dict['opt+_'+str(J)+'_'+str(G)] = '$Z_{\\mathrm{opt,stratified}}$'\n",
    "\n",
    "out[method_col] = list()\n",
    "out[assum_col] = list()\n",
    "\n",
    "for idx in range(lag+1):\n",
    "    this_val_col = '$(\\hat{\\\\tau}_{\\mathrm{'+str(idx)+'}}-\\\\tau_{\\mathrm{'+str(idx)+'}})^2$'\n",
    "    out[this_val_col] = list()\n",
    "\n",
    "\n",
    "for name in ['opt_0', 'opt',  'opt+_1_4']:\n",
    "    for assum in ['time', 'OLS', 'GLS']:\n",
    "        result = summary[assum]\n",
    "        out[method_col] = out[method_col] + [method_dict[name]] * num_mc\n",
    "        out[assum_col] = out[assum_col] + [assum_dict[assum]] * num_mc\n",
    "        for idx in range(lag+1):\n",
    "            this_val_col = '$(\\hat{\\\\tau}_{\\mathrm{'+str(idx)+'}}-\\\\tau_{\\mathrm{'+str(idx)+'}})^2$'\n",
    "            out[this_val_col] = out[this_val_col] + list((np.array(result[N][name])[:,idx] - all_taus[lag-idx])**2)\n",
    "        \n",
    "\n",
    "out_df = pd.DataFrame(out)\n",
    "total_val_col = '$\\sum_{j}(\\hat{\\\\tau}_{j}-\\\\tau_{j})^2$'\n",
    "out_df[total_val_col] = 0 \n",
    "for idx in range(lag+1):\n",
    "    this_val_col = '$(\\hat{\\\\tau}_{\\mathrm{'+str(idx)+'}}-\\\\tau_{\\mathrm{'+str(idx)+'}})^2$'\n",
    "    out_df[total_val_col] = out_df[total_val_col] + out_df[this_val_col]\n",
    "\n",
    "out_df.iloc[:,3:] = out_df.iloc[:,3:] * 1e6\n",
    "\n",
    "out_df_flu_additional = out_df"
   ]
  },
  {
   "cell_type": "code",
   "execution_count": 31,
   "id": "16c10547",
   "metadata": {},
   "outputs": [
    {
     "data": {
      "image/png": "[encoded data removed]",
      "text/plain": [
       "<Figure size 864x360 with 2 Axes>"
      ]
     },
     "metadata": {
      "needs_background": "light"
     },
     "output_type": "display_data"
    }
   ],
   "source": [
    "fig, axes = plt.subplots(nrows=1,ncols=2,figsize=(12,5), gridspec_kw={'width_ratios': [2, 1]})\n",
    "# ax.grid()\n",
    "# ax.grid()\n",
    "sns.barplot(ax=axes[0],\n",
    "    data=out_df_flu_basic, \n",
    "    x=method_col, y=total_val_col, hue=assum_col,\n",
    "#     ci=\"sd\", \n",
    "    palette=color_palette_dict, errcolor=\".7\"\n",
    ")\n",
    "axes[0].legend('',frameon=False)\n",
    "axes[0].set_title('$\\mathrm{Total\\ estimation\\ error\\ under\\ various\\ model\\ assumptions}$')\n",
    "# axes[0].legend(bbox_to_anchor=(1.05, 1), loc='upper left')\n",
    "sns.barplot(ax=axes[1],\n",
    "    data=out_df_flu_additional, \n",
    "    x=method_col, y=total_val_col, hue=assum_col,\n",
    "#     ci=\"sd\", \n",
    "    palette=color_palette_dict, errcolor=\".7\"\n",
    ")\n",
    "axes[1].legend('',frameon=False)\n",
    "axes[1].set_title('$\\mathrm{Zoomed\\ in}$')\n",
    "\n",
    "lines_labels = [ax.get_legend_handles_labels() for ax in [axes[0]]]\n",
    "lines, labels = [sum(lol, []) for lol in zip(*lines_labels)]\n",
    "fig.legend(lines, labels, loc='upper left', bbox_to_anchor=(1.0, 0.75))\n",
    "# ax.legend(bbox_to_anchor=(1.05, 1), loc='upper left')\n",
    "plt.tight_layout()\n",
    "fig.savefig(out_dir+\"flu_N_\"+str(N)+\"_T_\"+str(T)+\"_various_methods-full.pdf\", bbox_inches='tight')"
   ]
  },
  {
   "cell_type": "code",
   "execution_count": 34,
   "id": "88b0a2e4",
   "metadata": {},
   "outputs": [],
   "source": [
    "N = 25\n",
    "method = \"GLS\"\n",
    "out = dict()\n",
    "N_col = '$N$'\n",
    "method_col = '$\\mathrm{design}$'\n",
    "assum_col = '$\\mathrm{assumption}$'\n",
    "method_dict = {'ff': '$Z_{\\mathrm{ff}}$', 'ba': '$Z_{\\mathrm{ba}}$', 'ffba': '$Z_{\\mathrm{ffba}}$', 'opt_0': '$Z_{\\mathrm{opt,linear}}$', 'opt': '$Z_{\\mathrm{opt}}$'}\n",
    "J = 1\n",
    "for G in range(4,5):\n",
    "    method_dict['opt+_'+str(J)+'_'+str(G)] = '$Z_{\\mathrm{opt,stratified}}$'\n",
    "\n",
    "out[N_col] = list()\n",
    "out[method_col] = list()\n",
    "out[assum_col] = list()\n",
    "\n",
    "for idx in range(lag+1):\n",
    "    bias_col = '$bias(\\hat{\\\\tau}_{\\mathrm{'+str(idx)+'}})$'\n",
    "    var_col = '$var(\\hat{\\\\tau}_{\\mathrm{'+str(idx)+'}})$'\n",
    "    out[bias_col] = list()\n",
    "    out[var_col] = list()\n",
    "\n",
    "\n",
    "for name in ['ff', 'ba','ffba', 'opt_0', 'opt',  'opt+_1_4']:\n",
    "    for assum in ['no', 'unit', 'time', 'OLS', 'GLS']:\n",
    "#     for assum in ['time', 'OLS', 'GLS']:\n",
    "        result = summary[assum]\n",
    "        out[N_col] = out[N_col] + [N] *  1\n",
    "        out[method_col] = out[method_col] + [method_dict[name]] * 1\n",
    "        out[assum_col] = out[assum_col] + [assum_dict[assum]] * 1\n",
    "        for idx in range(lag+1):\n",
    "            bias_col = '$bias(\\hat{\\\\tau}_{\\mathrm{'+str(idx)+'}})$'\n",
    "            out[bias_col] = out[bias_col] + [(np.mean(np.array(result[N][name])[:,idx]) - all_taus[lag-idx])**2]\n",
    "            var_col = '$var(\\hat{\\\\tau}_{\\mathrm{'+str(idx)+'}})$'\n",
    "            out[var_col] = out[var_col] + [np.mean((np.array(result[N][name])[:,idx] - np.mean(np.array(result[N][name])[:,idx]))**2)]\n",
    "        \n",
    "\n",
    "out_df = pd.DataFrame(out)\n",
    "total_bias_col = '$\\sum_{j}\\mathrm{bias}(\\hat{\\\\tau}_{j})^2$'\n",
    "total_var_col = '$\\sum_{j}\\mathrm{var}(\\hat{\\\\tau}_{j})$'\n",
    "out_df[total_bias_col] = 0 \n",
    "out_df[total_var_col] = 0 \n",
    "for idx in range(lag+1):\n",
    "    bias_col = '$bias(\\hat{\\\\tau}_{\\mathrm{'+str(idx)+'}})$'\n",
    "    out_df[total_bias_col] = out_df[total_bias_col] + out_df[bias_col]\n",
    "    var_col = '$var(\\hat{\\\\tau}_{\\mathrm{'+str(idx)+'}})$'\n",
    "    out_df[total_var_col] = out_df[total_var_col] + out_df[var_col]\n",
    "\n",
    "out_df.iloc[:,3:] = out_df.iloc[:,3:] * 1e6\n",
    "\n",
    "# out_df_flu_basic = out_df"
   ]
  },
  {
   "cell_type": "code",
   "execution_count": 36,
   "id": "c07db704",
   "metadata": {},
   "outputs": [
    {
     "data": {
      "image/png": "[encoded data removed]",
      "text/plain": [
       "<Figure size 864x432 with 2 Axes>"
      ]
     },
     "metadata": {
      "needs_background": "light"
     },
     "output_type": "display_data"
    }
   ],
   "source": [
    "fig, axes = plt.subplots(nrows=1,ncols=2,figsize=(12,6), gridspec_kw={'width_ratios': [1, 1]})\n",
    "# ax.grid()\n",
    "# ax.grid()\n",
    "out1 = sns.barplot(ax=axes[0],\n",
    "    data=out_df, \n",
    "    x=method_col, y=total_bias_col, hue=assum_col,\n",
    "#     ci=\"sd\", \n",
    "    palette=color_palette_dict, errcolor=\".7\"\n",
    ")\n",
    "out1.set(ylim=[0,7.2])\n",
    "# axes[0].set_title\n",
    "\n",
    "axes[0].legend('',frameon=False)\n",
    "axes[0].set_title('$\\mathrm{Squared\\ bias}$')\n",
    "# axes[0].legend(bbox_to_anchor=(1.05, 1), loc='upper left')\n",
    "out2 = sns.barplot(ax=axes[1],\n",
    "    data=out_df, \n",
    "    x=method_col, y=total_var_col, hue=assum_col,\n",
    "#     ci=\"sd\", \n",
    "    palette=color_palette_dict, errcolor=\".7\"\n",
    ")\n",
    "out2.set(ylim=[0,7.2])\n",
    "axes[1].legend('',frameon=False)\n",
    "axes[1].set_title('$\\mathrm{Variance}$')\n",
    "\n",
    "lines_labels = [ax.get_legend_handles_labels() for ax in [axes[0]]]\n",
    "lines, labels = [sum(lol, []) for lol in zip(*lines_labels)]\n",
    "fig.legend(lines, labels, loc='upper left', bbox_to_anchor=(1.0, 0.75))\n",
    "# ax.legend(bbox_to_anchor=(1.05, 1), loc='upper left')\n",
    "plt.tight_layout()\n",
    "fig.savefig(out_dir+\"flu_N_\"+str(N)+\"_T_\"+str(T)+\"_bias-variance.pdf\", bbox_inches='tight')"
   ]
  },
  {
   "cell_type": "code",
   "execution_count": null,
   "id": "0a9562fd",
   "metadata": {},
   "outputs": [],
   "source": []
  }
 ],
 "metadata": {
  "kernelspec": {
   "display_name": "Python 3",
   "language": "python",
   "name": "python3"
  },
  "language_info": {
   "codemirror_mode": {
    "name": "ipython",
    "version": 3
   },
   "file_extension": ".py",
   "mimetype": "text/x-python",
   "name": "python",
   "nbconvert_exporter": "python",
   "pygments_lexer": "ipython3",
   "version": "3.8.8"
  }
 },
 "nbformat": 4,
 "nbformat_minor": 5
}
